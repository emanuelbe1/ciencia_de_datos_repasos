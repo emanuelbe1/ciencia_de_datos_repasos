{
 "cells": [
  {
   "cell_type": "markdown",
   "id": "b55e5605",
   "metadata": {},
   "source": [
    "Autor: Emanuel Benitez"
   ]
  },
  {
   "cell_type": "code",
   "execution_count": null,
   "id": "0a6ed656",
   "metadata": {},
   "outputs": [],
   "source": [
    "import pandas as pd\n",
    "\n",
    "airbnb_ny = pd.read_csv('https://raw.githubusercontent.com/emanuelbe1/ciencia_de_datos_repasos/main/Coderhouse/trabajosEntregables/datos/airbnb/AB_NYC_2019.csv')\n",
    "googleapps = pd.read_csv('https://raw.githubusercontent.com/emanuelbe1/ciencia_de_datos_repasos/main/Coderhouse/trabajosEntregables/datos/googleapps/googleplaystore.csv')\n",
    "spotify_youtube = pd.read_csv('https://raw.githubusercontent.com/emanuelbe1/ciencia_de_datos_repasos/main/Coderhouse/trabajosEntregables/datos/spotifyYoutube/Spotify_Youtube.csv')\n"
   ]
  },
  {
   "cell_type": "markdown",
   "id": "08ed5eb5",
   "metadata": {},
   "source": [
    "#### Airbnb New York City\n",
    "\n",
    "`id`: Identificación de lista.<br>\n",
    "`name`: Nombre de lista.<br>\n",
    "`host_id`: Nº de identificación del anfitrión.<br>\n",
    "`host_name`: Nombre del anfitrión.<br>\n",
    "`neighbourhood_group`: Grupo de vecindario o barrio.<br>\n",
    "`neighbourhood`: Vecindario/barrio.<br>\n",
    "`latitude`: Coordenadas de latitud.<br>\n",
    "`longitude`: Coordenadas de longitud.<br>\n",
    "`room_type`: Tipo de espacio listado.<br>\n",
    "`price`: Precio en dólares.<br>\n",
    "\n",
    "#### Google Apps Play Store\n",
    "\n",
    "`App`: Nombre de la aplicación.<br>\n",
    "`Category`: Categoría de la aplicación.<br>\n",
    "`Rating`: Calificación general de la aplicación.<br>\n",
    "`Reviews`: Número de reseñas de usuarios.<br>\n",
    "`Size`: Tamaño de la aplicación.<br>\n",
    "`Installs`: Número de descargas/instalaciones de usuarios.<br>\n",
    "`Type`: Si es gratuito o de pago.<br>\n",
    "`Price`: Precio de la aplicación.<br>\n",
    "`Content Rating`: Grupo de edad al que se dirige la aplicación.<br>\n",
    "`Genres`: Géneros a los que pertenece la aplicación.<br>\n",
    "\n",
    "#### Spotify Youtube\n",
    "\n",
    "`Track`: Nombre de la canción en Spotify.<br>\n",
    "`Artist`: Nombre del artista.<br>\n",
    "`Danceability`: Medida de la adecuación de la canción para bailar.<br>\n",
    "`Energy`: Medida de la intensidad y actividad de la canción.<br>\n",
    "`Loudness`: Volumen general de la canción en decibelios (dB).<br>\n",
    "`Valence`: Medida de la positividad musical transmitida por la canción.<br>\n",
    "`Tempo`: Tempo estimado de la canción en BPM.<br>\n",
    "`Duration_ms`: Duración de la canción en milisegundos.<br>\n",
    "`Stream`: Número de streams de la canción en Spotify.<br>\n",
    "`Url_youtube`: URL del video vinculado a la canción en YouTube.<br>\n",
    "`Likes`: Número de \"me gusta\" en el video.<br>\n",
    "`Comments`: Número de comentarios en el video.<br>\n",
    "`Description`: Descripción del video en YouTube.<br>\n",
    "`official_video`: Valor booleano, indica si el video encontrado es el video oficial de la canción.<br>"
   ]
  }
 ],
 "metadata": {
  "kernelspec": {
   "display_name": "Python 3 (ipykernel)",
   "language": "python",
   "name": "python3"
  },
  "language_info": {
   "codemirror_mode": {
    "name": "ipython",
    "version": 3
   },
   "file_extension": ".py",
   "mimetype": "text/x-python",
   "name": "python",
   "nbconvert_exporter": "python",
   "pygments_lexer": "ipython3",
   "version": "3.9.13"
  }
 },
 "nbformat": 4,
 "nbformat_minor": 5
}
