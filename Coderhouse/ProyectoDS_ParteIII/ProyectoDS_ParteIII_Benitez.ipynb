{
 "cells": [
  {
   "cell_type": "markdown",
   "id": "f2456ee4",
   "metadata": {
    "slideshow": {
     "slide_type": "-"
    }
   },
   "source": [
    "## <b><i>Estructurando un Proyecto de DS (Parte III)</i></b>\n",
    "Autor: <i>Emanuel Benitez</i><br>\n",
    "Fecha: <i>28-10-2023</i>"
   ]
  },
  {
   "cell_type": "markdown",
   "id": "53a95c12",
   "metadata": {},
   "source": [
    "#### <b>Consignas</b>\n",
    "\n",
    "[Complementar el trabajo realizado]\n",
    "\n",
    "<ol>\n",
    "<li>Elegir un método de feature selection para reducir la dimensionalidad del conjunto de datos.</li>\n",
    "<li>Elegir un algoritmo de regresión o clasificación para entrenar con los datos elegidos.</li>\n",
    "<li>Hacer un cálculo de metricas para validar el modelo.</li>\n",
    "<li>Generar conclusiones en base a los resultados obtenidos.</li>  \n",
    "</ol>"
   ]
  },
  {
   "cell_type": "markdown",
   "id": "71678e6d",
   "metadata": {},
   "source": [
    "<b><u>Contenido</u></b>\n",
    "<ol>\n",
    "    <li>Introducción</li>\n",
    "        - Abstracto, descripción del conjunto de datos y preguntas a resolver\n",
    "    <li> Análisis Exploratorio de Datos </li>\n",
    "        - Exploración detallada que incluye: estadísticas descriptivas, visualizaciones y patrones clave observados.\n",
    "    <li> <b>Selección de características (Feature Selection)</b> </li>\n",
    "        - Descripción del metodo de selección de características utilizado, caracteristicas elegidas y justificación.\n",
    "    <li> <b>Modelado</b> </li>\n",
    "        - Ajuste del modelo y configuración a partir de las caracteristicas elegidas.\n",
    "    <li> <b>Validación del modelo</b></li>\n",
    "        - Evaluación del rendimiento del modelo e interpretación de metricas\n",
    "    <li> <b>Resultados y conclusiones a partir del modelo</b> </li>\n",
    "        - Resultados y conclusiones basados en el rendimiento del modelo\n",
    "    <li> Respuestas a las preguntas planteadas </li>\n",
    "        - Respuestas en base al análisis exploratorio y el modelado\n",
    "    <li> Recomendaciones basadas en los descubrimientos (insights) </li>\n",
    "    <li> Conclusión </li>\n",
    "    \n",
    "</ol>"
   ]
  },
  {
   "cell_type": "markdown",
   "id": "e7b36da3",
   "metadata": {},
   "source": [
    "# <center>Introducción</center>\n",
    "<center>Abstracto, descripción del conjunto de datos y preguntas a resolver</center>\n",
    "<br>\n",
    "<center>\n",
    "  <img src=\"https://raw.githubusercontent.com/emanuelbe1/ciencia_de_datos_repasos/707fa795eed2a1805e2c8c1a7d9cc55a77fa033e/Coderhouse/ProyectoDS_ParteII/2023-10-17_11.58.09_upscaled.jpg\" \n",
    "       alt=\"Collage de distintos tipos de instrumentos con una guitarra en el centro. Imagen generada por herramienta de inteligencia artificial.\" \n",
    "       width=\"600\" >\n",
    "</center>\n",
    "\n",
    "\n",
    "### <center><b>Abstracto</b></center>\n",
    "<p>&nbsp;La música es un elemento central en la vida de las personas y una poderosa fuerza en la cultura y el entretenimiento. El surgimiento de plataformas de streaming como Spotify y la ubicuidad de YouTube como una plataforma de videos han transformado la forma en que experimentamos y consumimos música. En este contexto, el análisis de datos se convierte en una herramienta fundamental para comprender las tendencias y patrones que influyen en la industria musical, desde la popularidad de una canción hasta las preferencias del público.</p>\n",
    "<br>\n",
    "<br>\n",
    "\n",
    "<b>Audiencia</b>\n",
    "<p>&nbsp;La audiencia de este estudio abarca tanto a los profesionales de la industria musical, que pueden beneficiarse de una comprensión más profunda de las métricas que impulsan el éxito de una canción, como a la comunidad de investigadores y entusiastas de la música, interesados en desentrañar las relaciones entre las características musicales y su recepción por parte del público. Además, este análisis puede ser valioso para aquellos que buscan perfeccionar estrategias de promoción y toma de decisiones relacionadas con la música en la era digital.</p>\n",
    "<br>\n",
    "<br>\n",
    "\n",
    "<b>Motivación</b>\n",
    "<p>&nbsp;En resumen, este estudio se motiva por la necesidad de arrojar luz sobre los factores que influyen en el desempeño de una canción en las plataformas de streaming y su recepción en YouTube. Su audiencia abarca desde profesionales de la industria hasta apasionados de la música y tiene como objetivo proporcionar información valiosa y perspicaz en el emocionante y siempre cambiante mundo de la música digital.</p>\n",
    "\n",
    "<br>\n",
    "<br>\n",
    "\n",
    "<b>Preguntas a resolver</b><br>\n",
    "\n",
    "   1. <i>¿Hay una relación entre el número de reproducciones en Spotfy y la adecuación para el baile de la canción?</i><br>\n",
    "    <p>&nbsp;En esta cuestión, consideramos el número de reproducciones como indicativo de la popularidad de una canción. Se podría reformular la pregunta a: ¿tienden las canciones \"bailables\" a ser más populares?</p>\n",
    "    <br><br>\n",
    "   2. <i>¿Existen variables altamente correlacionadas con el número de comentarios en Youtube?</i><br>\n",
    "    <p>&nbsp;En esta pregunta se busca encontrar los factores correlacionados con un indicativo de fama (o infamia) de una canción: se toma el número de comentarios en Youtube cómo un indicativo de popularidad.</p>\n",
    "    <br><br>\n",
    "   3. <i>¿Qué tan populares son, en terminos de reproducciones de Spotify, las canciones instrumentales?</i><br>\n",
    "   <p>&nbsp;En esta cuestión se explora si hay alguna relación ¿tienden a ser menos populares las canciones instrumentales? ¿tienden a ser más escuchadas?</p>\n",
    "    <br><br>\n",
    "\n",
    "\n",
    "<br>\n",
    "<br>\n",
    "\n",
    "<details><summary><b>Hipótesis (a completar)</b></summary>\n",
    "\n",
    "- Hipótesis 1: Las canciones tristes ('valence' cercano a 0) tienden a tener menos uso de la voz (mayor 'instrumentalness').\n",
    "- Hipótesis 2: Las canciones \"positivas\" o \"alegres\" ('valence' cercano a 1) tienden a una mayor popularidad en terminos de reproducciones de Spotify/Youtube.\n",
    "</details>\n",
    "<br>"
   ]
  },
  {
   "cell_type": "markdown",
   "id": "0cf0b3e4",
   "metadata": {},
   "source": [
    "<center><img src=\"https://raw.githubusercontent.com/emanuelbe1/ciencia_de_datos_repasos/main/Coderhouse/ProyectoDS_ParteII/img/if_spotify_then_youtube.png\" alt=\"Logos de Spotify y Youtube, uno al lado de otro\" width=600></center>\n",
    "\n",
    "#### <center><b><u>Sobre el conjunto de datos</u>:</b> <i>'Spotify and Youtube'</i></center>\n",
    "\n",
    "\n",
    "<details><summary><b><u>Descripción</u></b></summary><br>\n",
    "<font size = \"3\">&nbsp;Este conjunto de datos contiene estadisticas de canciones para sus versiones lanzadas en Spotify. También contiene el número de visitas en su video oficial, alojado en la plataforma Youtube. En el contenido se incluyen <b>26 variables</b> para cada uno de las canciones recolectadas de Spotify. Entre estás variables se incluyen: nombre de la canción (Track), nombre del artista (Artist), album donde se contiene la canción (Album), adecuación para el baile (Danceability), tonalidad de la canción (Key), tiempo estimado de la canción (Tempo), duración de la canción en milisegundos (Duration_ms), titulo del video en Youtube (Title), entre otras.</font>\n",
    "\n",
    "[Fuente de los datos](https://www.kaggle.com/datasets/salvatorerastelli/spotify-and-youtube)</details>\n",
    "<details><summary><b><u>Índice de variables</u></b></summary><br>\n",
    "<font size = \"3\">&nbsp;La siguiente tabla contiene una descripción exhaustiva para cada una de las columnas en los datos.</font>\n",
    "\n",
    "<font size = \"2\"><b>Track</b>: Nombre de la canción en Spotify<br>\n",
    "<b>Artist</b>: Nombre del artista<br>\n",
    "<b>Url_spotify</b>: URL del artista en Spotify<br>\n",
    "<b>Álbum</b>: Álbum en el que se encuentra la canción en Spotify<br>\n",
    "<b>Album_type</b>: Indica si la canción se ha lanzado en Spotify como sencillo o en un álbum<br>\n",
    "<b>Uri</b>: Un enlace de Spotify utilizado para encontrar la canción a través de la API<br>\n",
    "<b>Danceability</b>: Describe cuán adecuada es una pista para el baile basándose en una combinación de elementos musicales, incluyendo tempo, estabilidad del ritmo, fuerza del ritmo y regularidad general. Un valor de 0.0 es menos bailable y 1.0 es muy bailable<br>\n",
    "<b>Energy</b>: Es una medida de 0.0 a 1.0 que representa una medida perceptual de intensidad y actividad. Típicamente, las pistas energéticas se sienten rápidas, ruidosas y enérgicas<br>\n",
    "<b>Key</b>: La tonalidad en la que se encuentra la canción. Los enteros se mapean a notas utilizando notación estándar de clases de tonos. Por ejemplo, 0 = Do, 1 = Do♯/Re♭, 2 = Re, y así sucesivamente. Si no se detectó una tonalidad, el valor es -1<br>\n",
    "<b>Loudness</b>: El volumen general de una pista en decibelios (dB). Los valores de volumen se promedian en toda la pista y son útiles para comparar el volumen relativo de las pistas<br>\n",
    "<b>Speechiness</b>: Detecta la presencia de palabras habladas en una pista. Cuanto más parecido a palabras habladas sea el registro (por ejemplo, un programa de entrevistas, audiolibro, poesía), más cercano a 1.0 será el valor del atributo<br>\n",
    "<b>Acousticness</b>: Una medida de confianza de 0.0 a 1.0 de si la pista es acústica. 1.0 representa una alta confianza de que la pista es acústica<br>\n",
    "<b>Instrumentalness</b>: Predice si una pista no contiene vocales. Los sonidos \"Ooh\" y \"aah\" se consideran instrumentales en este contexto. Las pistas de rap o palabras habladas son claramente \"vocales\". Cuanto más cercano sea el valor de instrumentalidad a 1.0, mayor será la probabilidad de que la pista no contenga contenido vocal<br>\n",
    "<b>Liveness</b>: Detecta la presencia de una audiencia en la grabación. Valores de en_vivo más altos representan una mayor probabilidad de que la pista se haya interpretado en vivo<br>\n",
    "<b>Valence</b>: Una medida de 0.0 a 1.0 que describe la positividad musical transmitida por una pista. Pistas con alto valor de positividad suenan más positivas (por ejemplo, alegres, alegres, eufóricas), mientras que pistas con bajo valor de positividad suenan más negativas (por ejemplo, tristes, deprimidas, enojadas)<br>\n",
    "<b>Tempo</b>: El tempo estimado general de una pista en pulsos por minuto (BPM)<br>\n",
    "<b>Duration_ms</b>: La duración de la pista en milisegundos<br>\n",
    "<b>Stream</b>: Número de transmisiones de la canción en Spotify<br>\n",
    "<b>Url_youtube</b>: URL del video vinculado a la canción en YouTube, si existe<br>\n",
    "<b>Title</b>: Título del videoclip en YouTube<br>\n",
    "<b>Channel</b>: Nombre del canal que ha publicado el video<br>\n",
    "<b>Views</b>: Número de vistas<br>\n",
    "<b>Likes</b>: Número de \"Me gusta\"<br>\n",
    "<b>Comments</b>: Número de comentarios<br>\n",
    "<b>Description</b>: Descripción del video en YouTube<br>\n",
    "<b>Licensed</b>: Indica si el video representa contenido con licencia, lo que significa que el contenido fue cargado a un canal vinculado a un socio de contenido de YouTube y luego reclamado por ese socio<br>\n",
    "<b>official_video</b>: Valor booleano que indica si el video encontrado es el video oficial de la canción<br>\n",
    "</font>\n",
    "<br></details>\n",
    "\n",
    "<hr>"
   ]
  },
  {
   "cell_type": "markdown",
   "id": "fc06bf25",
   "metadata": {},
   "source": [
    "# <center><b>Análisis exploratorio de datos</b></center>\n",
    "<center> Estadísticas descriptivas, visualizaciones y patrones clave observados.\n",
    "</center>"
   ]
  },
  {
   "cell_type": "code",
   "execution_count": 1,
   "id": "0a6ed656",
   "metadata": {},
   "outputs": [
    {
     "name": "stdout",
     "output_type": "stream",
     "text": [
      "Hay \u001b[1m20718 entradas\u001b[0m o registros, y \u001b[1m23 columnas\u001b[0m o variables.\n",
      "\n",
      "\u001b[1mLista de columnas:\u001b[0m\n",
      "\n",
      " Index(['Artist', 'Track', 'Album', 'Album_type', 'Danceability', 'Energy',\n",
      "       'Key', 'Loudness', 'Speechiness', 'Acousticness', 'Instrumentalness',\n",
      "       'Liveness', 'Valence', 'Tempo', 'Duration_ms', 'Title', 'Channel',\n",
      "       'Views', 'Likes', 'Comments', 'Licensed', 'official_video', 'Stream'],\n",
      "      dtype='object')\n",
      "_____________________________________________\n"
     ]
    }
   ],
   "source": [
    "# Comenzamos importando las librerias necesarias para el análisis de datos\n",
    "\n",
    "import pandas as pd\n",
    "import numpy as np\n",
    "import matplotlib.pyplot as plt\n",
    "import seaborn as sns\n",
    "from mlxtend.feature_selection import SequentialFeatureSelector as SFS\n",
    "from sklearn.linear_model import LinearRegression\n",
    "from sklearn.model_selection import train_test_split\n",
    "from sklearn.metrics import mean_squared_error, r2_score\n",
    "\n",
    "\n",
    "url='https://drive.google.com/file/d/1at4CyKa-PyJhTrLK-SHMJAZ1_PNnQ_gI/view?usp=drive_link'\n",
    "url='https://drive.google.com/uc?id=' + url.split('/')[-2]\n",
    "\n",
    "spotifyYoutube = pd.read_csv(url)\n",
    "# Para hacer más practico el análisis y debido a que no voy a utilizar los valores en estás columnas\n",
    "# decidi excluir las variables: \"Url_spotify\", \"Uri\", \"Url_youtube\", \"Description\".\n",
    "columnas_a_eliminar = [\"Unnamed: 0\",\"Url_spotify\", \"Uri\", \"Url_youtube\", \"Description\"]\n",
    "\n",
    "spotifyYoutube = spotifyYoutube.drop(columns=columnas_a_eliminar)\n",
    "\n",
    "\n",
    "\n",
    "n_entradas = spotifyYoutube.shape[0]\n",
    "n_columnas = spotifyYoutube.shape[1]\n",
    "\n",
    "print(f\"Hay \\033[1m{n_entradas} entradas\\033[0m o registros, y \\033[1m{n_columnas} columnas\\033[0m o variables.\\n\")\n",
    "print(f\"\\033[1mLista de columnas:\\033[0m\\n\\n {spotifyYoutube.columns}\")\n",
    "print(\"___\"*15)"
   ]
  },
  {
   "cell_type": "code",
   "execution_count": 2,
   "id": "c510e124",
   "metadata": {
    "scrolled": true,
    "slideshow": {
     "slide_type": "slide"
    }
   },
   "outputs": [
    {
     "data": {
      "text/html": [
       "<div>\n",
       "<style scoped>\n",
       "    .dataframe tbody tr th:only-of-type {\n",
       "        vertical-align: middle;\n",
       "    }\n",
       "\n",
       "    .dataframe tbody tr th {\n",
       "        vertical-align: top;\n",
       "    }\n",
       "\n",
       "    .dataframe thead th {\n",
       "        text-align: right;\n",
       "    }\n",
       "</style>\n",
       "<table border=\"1\" class=\"dataframe\">\n",
       "  <thead>\n",
       "    <tr style=\"text-align: right;\">\n",
       "      <th></th>\n",
       "      <th>Danceability</th>\n",
       "      <th>Energy</th>\n",
       "      <th>Key</th>\n",
       "      <th>Loudness</th>\n",
       "      <th>Speechiness</th>\n",
       "      <th>Acousticness</th>\n",
       "      <th>Instrumentalness</th>\n",
       "      <th>Liveness</th>\n",
       "      <th>Valence</th>\n",
       "      <th>Tempo</th>\n",
       "      <th>Duration_ms</th>\n",
       "      <th>Views</th>\n",
       "      <th>Likes</th>\n",
       "      <th>Comments</th>\n",
       "      <th>Stream</th>\n",
       "    </tr>\n",
       "  </thead>\n",
       "  <tbody>\n",
       "    <tr>\n",
       "      <th>count</th>\n",
       "      <td>20716.000000</td>\n",
       "      <td>20716.000000</td>\n",
       "      <td>20716.000000</td>\n",
       "      <td>20716.000000</td>\n",
       "      <td>20716.000000</td>\n",
       "      <td>20716.000000</td>\n",
       "      <td>20716.000000</td>\n",
       "      <td>20716.000000</td>\n",
       "      <td>20716.000000</td>\n",
       "      <td>20716.000000</td>\n",
       "      <td>2.071600e+04</td>\n",
       "      <td>2.024800e+04</td>\n",
       "      <td>2.017700e+04</td>\n",
       "      <td>2.014900e+04</td>\n",
       "      <td>2.014200e+04</td>\n",
       "    </tr>\n",
       "    <tr>\n",
       "      <th>mean</th>\n",
       "      <td>0.619777</td>\n",
       "      <td>0.635250</td>\n",
       "      <td>5.300348</td>\n",
       "      <td>-7.671680</td>\n",
       "      <td>0.096456</td>\n",
       "      <td>0.291535</td>\n",
       "      <td>0.055962</td>\n",
       "      <td>0.193521</td>\n",
       "      <td>0.529853</td>\n",
       "      <td>120.638340</td>\n",
       "      <td>2.247176e+05</td>\n",
       "      <td>9.393782e+07</td>\n",
       "      <td>6.633411e+05</td>\n",
       "      <td>2.751899e+04</td>\n",
       "      <td>1.359422e+08</td>\n",
       "    </tr>\n",
       "    <tr>\n",
       "      <th>std</th>\n",
       "      <td>0.165272</td>\n",
       "      <td>0.214147</td>\n",
       "      <td>3.576449</td>\n",
       "      <td>4.632749</td>\n",
       "      <td>0.111960</td>\n",
       "      <td>0.286299</td>\n",
       "      <td>0.193262</td>\n",
       "      <td>0.168531</td>\n",
       "      <td>0.245441</td>\n",
       "      <td>29.579018</td>\n",
       "      <td>1.247905e+05</td>\n",
       "      <td>2.746443e+08</td>\n",
       "      <td>1.789324e+06</td>\n",
       "      <td>1.932347e+05</td>\n",
       "      <td>2.441321e+08</td>\n",
       "    </tr>\n",
       "    <tr>\n",
       "      <th>min</th>\n",
       "      <td>0.000000</td>\n",
       "      <td>0.000020</td>\n",
       "      <td>0.000000</td>\n",
       "      <td>-46.251000</td>\n",
       "      <td>0.000000</td>\n",
       "      <td>0.000001</td>\n",
       "      <td>0.000000</td>\n",
       "      <td>0.014500</td>\n",
       "      <td>0.000000</td>\n",
       "      <td>0.000000</td>\n",
       "      <td>3.098500e+04</td>\n",
       "      <td>0.000000e+00</td>\n",
       "      <td>0.000000e+00</td>\n",
       "      <td>0.000000e+00</td>\n",
       "      <td>6.574000e+03</td>\n",
       "    </tr>\n",
       "    <tr>\n",
       "      <th>25%</th>\n",
       "      <td>0.518000</td>\n",
       "      <td>0.507000</td>\n",
       "      <td>2.000000</td>\n",
       "      <td>-8.858000</td>\n",
       "      <td>0.035700</td>\n",
       "      <td>0.045200</td>\n",
       "      <td>0.000000</td>\n",
       "      <td>0.094100</td>\n",
       "      <td>0.339000</td>\n",
       "      <td>97.002000</td>\n",
       "      <td>1.800095e+05</td>\n",
       "      <td>1.826002e+06</td>\n",
       "      <td>2.158100e+04</td>\n",
       "      <td>5.090000e+02</td>\n",
       "      <td>1.767486e+07</td>\n",
       "    </tr>\n",
       "    <tr>\n",
       "      <th>50%</th>\n",
       "      <td>0.637000</td>\n",
       "      <td>0.666000</td>\n",
       "      <td>5.000000</td>\n",
       "      <td>-6.536000</td>\n",
       "      <td>0.050500</td>\n",
       "      <td>0.193000</td>\n",
       "      <td>0.000002</td>\n",
       "      <td>0.125000</td>\n",
       "      <td>0.537000</td>\n",
       "      <td>119.965000</td>\n",
       "      <td>2.132845e+05</td>\n",
       "      <td>1.450110e+07</td>\n",
       "      <td>1.244810e+05</td>\n",
       "      <td>3.277000e+03</td>\n",
       "      <td>4.968298e+07</td>\n",
       "    </tr>\n",
       "    <tr>\n",
       "      <th>75%</th>\n",
       "      <td>0.740250</td>\n",
       "      <td>0.798000</td>\n",
       "      <td>8.000000</td>\n",
       "      <td>-4.931000</td>\n",
       "      <td>0.103000</td>\n",
       "      <td>0.477250</td>\n",
       "      <td>0.000463</td>\n",
       "      <td>0.237000</td>\n",
       "      <td>0.726250</td>\n",
       "      <td>139.935000</td>\n",
       "      <td>2.524430e+05</td>\n",
       "      <td>7.039975e+07</td>\n",
       "      <td>5.221480e+05</td>\n",
       "      <td>1.436000e+04</td>\n",
       "      <td>1.383581e+08</td>\n",
       "    </tr>\n",
       "    <tr>\n",
       "      <th>max</th>\n",
       "      <td>0.975000</td>\n",
       "      <td>1.000000</td>\n",
       "      <td>11.000000</td>\n",
       "      <td>0.920000</td>\n",
       "      <td>0.964000</td>\n",
       "      <td>0.996000</td>\n",
       "      <td>1.000000</td>\n",
       "      <td>1.000000</td>\n",
       "      <td>0.993000</td>\n",
       "      <td>243.372000</td>\n",
       "      <td>4.676058e+06</td>\n",
       "      <td>8.079649e+09</td>\n",
       "      <td>5.078865e+07</td>\n",
       "      <td>1.608314e+07</td>\n",
       "      <td>3.386520e+09</td>\n",
       "    </tr>\n",
       "  </tbody>\n",
       "</table>\n",
       "</div>"
      ],
      "text/plain": [
       "       Danceability        Energy           Key      Loudness   Speechiness  \\\n",
       "count  20716.000000  20716.000000  20716.000000  20716.000000  20716.000000   \n",
       "mean       0.619777      0.635250      5.300348     -7.671680      0.096456   \n",
       "std        0.165272      0.214147      3.576449      4.632749      0.111960   \n",
       "min        0.000000      0.000020      0.000000    -46.251000      0.000000   \n",
       "25%        0.518000      0.507000      2.000000     -8.858000      0.035700   \n",
       "50%        0.637000      0.666000      5.000000     -6.536000      0.050500   \n",
       "75%        0.740250      0.798000      8.000000     -4.931000      0.103000   \n",
       "max        0.975000      1.000000     11.000000      0.920000      0.964000   \n",
       "\n",
       "       Acousticness  Instrumentalness      Liveness       Valence  \\\n",
       "count  20716.000000      20716.000000  20716.000000  20716.000000   \n",
       "mean       0.291535          0.055962      0.193521      0.529853   \n",
       "std        0.286299          0.193262      0.168531      0.245441   \n",
       "min        0.000001          0.000000      0.014500      0.000000   \n",
       "25%        0.045200          0.000000      0.094100      0.339000   \n",
       "50%        0.193000          0.000002      0.125000      0.537000   \n",
       "75%        0.477250          0.000463      0.237000      0.726250   \n",
       "max        0.996000          1.000000      1.000000      0.993000   \n",
       "\n",
       "              Tempo   Duration_ms         Views         Likes      Comments  \\\n",
       "count  20716.000000  2.071600e+04  2.024800e+04  2.017700e+04  2.014900e+04   \n",
       "mean     120.638340  2.247176e+05  9.393782e+07  6.633411e+05  2.751899e+04   \n",
       "std       29.579018  1.247905e+05  2.746443e+08  1.789324e+06  1.932347e+05   \n",
       "min        0.000000  3.098500e+04  0.000000e+00  0.000000e+00  0.000000e+00   \n",
       "25%       97.002000  1.800095e+05  1.826002e+06  2.158100e+04  5.090000e+02   \n",
       "50%      119.965000  2.132845e+05  1.450110e+07  1.244810e+05  3.277000e+03   \n",
       "75%      139.935000  2.524430e+05  7.039975e+07  5.221480e+05  1.436000e+04   \n",
       "max      243.372000  4.676058e+06  8.079649e+09  5.078865e+07  1.608314e+07   \n",
       "\n",
       "             Stream  \n",
       "count  2.014200e+04  \n",
       "mean   1.359422e+08  \n",
       "std    2.441321e+08  \n",
       "min    6.574000e+03  \n",
       "25%    1.767486e+07  \n",
       "50%    4.968298e+07  \n",
       "75%    1.383581e+08  \n",
       "max    3.386520e+09  "
      ]
     },
     "execution_count": 2,
     "metadata": {},
     "output_type": "execute_result"
    }
   ],
   "source": [
    "spotifyYoutube.describe()"
   ]
  },
  {
   "cell_type": "markdown",
   "id": "535121ef",
   "metadata": {},
   "source": [
    "#### <b>Estadisticas descriptivas de variables númericas</b>\n",
    "\n",
    "<p> Al aplicar la función <i>.describe</i> para hacer un análisis de las estadisticas descriptivas de las variables númericas, se puede observar que:</p>\n",
    "\n",
    "<ul>\n",
    "    \n",
    "<li><b>Danceability</b>: El promedio es aproximadamente de 0.62, con un valor para el Q1 de 0.518, lo que sugiere que un 75% de las canciones tienen una adecuación para el baile mayor a este valor: el histograma sera asimetrico hacia la derecha y la música tiende a juzgarse más adecuada para el baile.</li>\n",
    "    \n",
    "<li><b>Energy</b>: Con valores similares, \"Energy\" (si la canción se percibe energica, rapida y ruidosa) tiende a tener un valor mayor a 0.507 (el 75% de las canciones), con una media de 0.635250. El histograma sera, también, asimetrico hacia la derecha y la música tiende a juzgarse o percibirse más energica.</li>\n",
    "    \n",
    "<li><b>Key</b>: Para la columna \"Tonalidad\", se observa que hay una variación estandar muy alta, de 3.576. Sin embargo, en este conjunto de datos se habla de que, cúando no se puede calcular la tonalidad, se coloca el valor de \"-1\". Antes tomar decisiones en base a esta columna, se debe hacer un procesamiento donde se excluyan los valores atipicos (-1).</li>\n",
    "    \n",
    "<li><b>Tempo</b>: El promedio de canciones, es de 120. Esto tiene sentido, ya que la metrica utilizada normalmente para seguir el pulso de metrónomo es una negra que normalmente se implica de 120 pulsos por minutos. Sin embargo, hay una variación de casí 30 pulsos por minuto (29.57). Esto cambia mucho la dinamica de una composición: un tempo de 150 es normalmente utilizado en música electronica rapida (trance, hardcore), mientras que un tempo de entre 80 a 90 BPM es normalmente utilizado en generos cómo Lo-Fi, Chill out y Vaporwave, que generan un ambiente sin distracciones. El pop, genero muy popular, normalmente usa un tempo entre 90-135, lo que explicaria en gran parte el promedio presente en esta columna. Sin embargo, antes de realizar sugerencias en base a los datos, se debe investigar más a fondo.</li>\n",
    "    \n",
    "</ul>\n",
    "<br>"
   ]
  },
  {
   "cell_type": "markdown",
   "id": "93f01637",
   "metadata": {},
   "source": [
    "#### <b>Descripción de las variables categóricas</b>\n",
    "<p>&nbsp;Con el siguiente código vamos a ver los primeros 5 resultados más frecuentes y el número de valores únicos para cada columna categorica de interés.</p>"
   ]
  },
  {
   "cell_type": "code",
   "execution_count": 3,
   "id": "ff8fa87c",
   "metadata": {},
   "outputs": [
    {
     "name": "stdout",
     "output_type": "stream",
     "text": [
      "Gorillaz                     10\n",
      "London Symphony Orchestra    10\n",
      "Michael Jackson              10\n",
      "P!nk                         10\n",
      "Eminem                       10\n",
      "Name: Artist, dtype: int64\n",
      "\n",
      "Número de valores únicos en la columna '\u001b[1mArtist\u001b[0m': 2079\n",
      "___________________________________________________________________________ \n",
      "\n",
      "album          14926\n",
      "single          5004\n",
      "compilation      788\n",
      "Name: Album_type, dtype: int64\n",
      "\n",
      "Número de valores únicos en la columna '\u001b[1mAlbum_type\u001b[0m': 3\n",
      "___________________________________________________________________________ \n",
      "\n",
      "T-Series              238\n",
      "SonyMusicIndiaVEVO     95\n",
      "SonyMusicSouthVEVO     83\n",
      "Zee Music Company      65\n",
      "RHINO                  62\n",
      "Name: Channel, dtype: int64\n",
      "\n",
      "Número de valores únicos en la columna '\u001b[1mChannel\u001b[0m': 6714\n",
      "___________________________________________________________________________ \n",
      "\n",
      "True     15723\n",
      "False     4525\n",
      "Name: official_video, dtype: int64\n",
      "\n",
      "Número de valores únicos en la columna '\u001b[1mofficial_video\u001b[0m': 2\n",
      "___________________________________________________________________________ \n",
      "\n"
     ]
    }
   ],
   "source": [
    "variables_categoricas = spotifyYoutube.select_dtypes(include=['object']) #selecciono los variables categóricas\n",
    "\n",
    "columnas_a_contar = ['Artist', 'Album_type', 'Channel', 'official_video']\n",
    "for columna in columnas_a_contar:\n",
    "    conteo_valores = variables_categoricas[columna].value_counts()\n",
    "    n_valores_unicos = len(conteo_valores)\n",
    "    \n",
    "    print(conteo_valores.sort_values(ascending=False).head(5))\n",
    "    print(f\"\\nNúmero de valores únicos en la columna '\\033[1m{columna}\\033[0m': {n_valores_unicos}\")\n",
    "    print(\"_____\"*15, \"\\n\")"
   ]
  },
  {
   "cell_type": "markdown",
   "id": "f2dec5c2",
   "metadata": {},
   "source": [
    "### <b>Visualizaciones para variables de interés</b>\n",
    "\n",
    "##### <b>Número de reproducciones (Spotify) y adecuación para el baile</b>\n",
    "<p>Para intentar responder a la primer pregunta, cree un gŕafico de puntos con la variable de bailabilidad ('Danceability') y el número de stream's en Spotify. Luego imprimi las estadísticas descriptivas de: media, mediana, moda, y correlación.</p>\n",
    "<img src = \"https://raw.githubusercontent.com/emanuelbe1/ciencia_de_datos_repasos/main/Coderhouse/imagenes/danceability_vs_streams.jpg\"></img>"
   ]
  },
  {
   "cell_type": "code",
   "execution_count": 4,
   "id": "a3974b5c",
   "metadata": {},
   "outputs": [
    {
     "name": "stdout",
     "output_type": "stream",
     "text": [
      "Media de la columna 'Danceability': 0.6197774522108509\n",
      "Mediana de la columna 'Danceability': 0.637\n",
      "Moda de la columna 'Danceability': 0.687\n",
      "Correlación entre número de \"Streams\" y \"Danceability\": 0.07337514004570202\n",
      "___________________________________________________________________________\n"
     ]
    }
   ],
   "source": [
    "danceability_mean = spotifyYoutube['Danceability'].mean()\n",
    "danceability_median = spotifyYoutube['Danceability'].median()\n",
    "danceability_mode = spotifyYoutube['Danceability'].mode()[0]\n",
    "danceability_stream_corr = spotifyYoutube[['Danceability', 'Stream']].corr()['Stream'][0]\n",
    "\n",
    "print(f\"Media de la columna 'Danceability': {danceability_mean}\")\n",
    "print(f\"Mediana de la columna 'Danceability': {danceability_median}\")\n",
    "print(f\"Moda de la columna 'Danceability': {danceability_mode}\") \n",
    "print(f'Correlación entre número de \"Streams\" y \"Danceability\": {danceability_stream_corr}') \n",
    "print(\"_____\" * 15)\n"
   ]
  },
  {
   "cell_type": "markdown",
   "id": "32d255c2",
   "metadata": {},
   "source": [
    "##### <b>Variables correlacionadas a comentarios en Youtube: matriz de correlación</b>\n",
    "<p>&nbsp;Para ver las distintas variables correlacionadas con el número de comentarios en Youtube, he decidido usar una visualización del tipo mapa de calor (\"heatmap\") para todas las variables del conjunto de datos.</p>\n",
    "<img src=\"https://raw.githubusercontent.com/emanuelbe1/ciencia_de_datos_repasos/main/Coderhouse/imagenes/correlacion_sy.jpg\"></img>"
   ]
  },
  {
   "cell_type": "markdown",
   "id": "ca9b6e99",
   "metadata": {},
   "source": [
    "<p>&nbsp;Observando la matriz de correlación poder ver que podria existir una relación lineal entre la cantidad de vistas, me gusta (likes) y reproducciones en Spotify (stream) con la variable \"Comments\". Esto tiene sentido, ya que a más visitas en un video músical, mayor es la probabilidad de recibir un comentario. Estas mismas visitas se explicarian con la cantidad de reproducciones en Spotify: el usuario entra al video oficial de la canción (que aumenta las visitas) y luego comenta y da su like. Estás tres variables juntas podrían tener el potencial de describir la cantidad de comentarios que puede recibir el video de una canción</p>\n",
    "\n",
    "<hr>"
   ]
  },
  {
   "cell_type": "markdown",
   "id": "2f0f2949",
   "metadata": {},
   "source": [
    "#####  <b>Gráfico de dispersión: instrumentalidad por reproducciones en Spotify</b>\n",
    " <p>&nbsp;Para responder a la tercer pregunta, he creado una visualización de las reproducciones en spotify y la instrumentalidad de la canción. Separe las canciones con menos probabilidad de tener contenido vocal (mayores a 0.5 de instrumentalness) en color azul, y con color rojo las que más probabilidad tienen de contener vocalizaciones y no ser instrumentales (menos de 0.5 de instrumentalness). </p>\n",
    " \n",
    " <img src=\"https://raw.githubusercontent.com/emanuelbe1/ciencia_de_datos_repasos/main/Coderhouse/imagenes/streamsvsinstrumental.jpg\"></img>"
   ]
  },
  {
   "cell_type": "code",
   "execution_count": 5,
   "id": "41a1eaa9",
   "metadata": {
    "scrolled": true
   },
   "outputs": [
    {
     "name": "stdout",
     "output_type": "stream",
     "text": [
      "Media de la columna 'Instrumentalness': 0.0559615577143274\n",
      "Mediana de la columna 'Instrumentalness': 2.405e-06\n",
      "Moda de la columna 'Instrumentalness': 0.0\n",
      "Correlación entre número de \"Streams\" e \"Instrumentalness\": -0.0919418357027163\n",
      "___________________________________________________________________________\n"
     ]
    }
   ],
   "source": [
    "instrumentalness_mean = spotifyYoutube['Instrumentalness'].mean()\n",
    "instrumentalness_median = spotifyYoutube['Instrumentalness'].median()\n",
    "instrumentalness_mode = spotifyYoutube['Instrumentalness'].mode()[0]\n",
    "instrumentalness_stream_corr = spotifyYoutube[['Instrumentalness', 'Stream']].corr()['Stream'][0]\n",
    "\n",
    "\n",
    "print(f\"Media de la columna 'Instrumentalness': {instrumentalness_mean}\")\n",
    "print(f\"Mediana de la columna 'Instrumentalness': {instrumentalness_median}\")\n",
    "print(f\"Moda de la columna 'Instrumentalness': {instrumentalness_mode}\") \n",
    "print(f'Correlación entre número de \"Streams\" e \"Instrumentalness\": {instrumentalness_stream_corr}') \n",
    "print(\"_____\" * 15) \n"
   ]
  },
  {
   "cell_type": "markdown",
   "id": "75f46afa",
   "metadata": {},
   "source": [
    "## <center>Selección de características</center>\n",
    "\n",
    "<center>Descripción del metodo de selección de características utilizado, caracteristicas elegidas y justificación.</center>\n",
    "\n",
    "<p> Voy a usar buscar las variables que puedan de alguna manera, predecir la popularidad de una canción. Indicadores de popularidad podran ser:</p>\n",
    "\n",
    "- La columna 'Stream', para las reproducciones en Spotify\n",
    "\n",
    "- La columna 'Views', para las visualizaciones en Youtube\n",
    "    \n",
    "<p>En mi conjunto de datos, las variables cuantitativas que describen una melodia son:</p>\n",
    "\n",
    "- Danceability\n",
    "\n",
    "- Energy\n",
    "\n",
    "- Loudness\n",
    "\n",
    "- Speechiness\n",
    "\n",
    "- Acousticness\n",
    "\n",
    "- Instrumentalness\n",
    "\n",
    "- Valence\n",
    "\n",
    "- Tempo\n",
    "\n",
    "- Duration_ms\n",
    "\n",
    "<p>&nbsp;He ignorado las variables: Liveness (si la canción esta grabada en vivo o no), Likes, Views, y Comments, ya que no describen las caracteristicas de una composición.</p>\n",
    "\n",
    "<p>También he optado por ignorar la variable 'Key', la cual, por su naturaleza, es originalmente una variable categorica. La tonalidad representa la nota principal de una canción. A pesar de que en el conjunto de datos se represente de forma númerica, en naturaleza es una variable categorica. </p>\n",
    "\n",
    "<p>En este caso, mi deseo es conocer cúales son las variables que mejor predicen el número de reproducciones en Spotify. Para eso voy a usar una seleccion de caracteristicas en direccion forward. Previo a esto debo hacer un <b>preprocesamiento de los datos</b>.</p>"
   ]
  },
  {
   "cell_type": "code",
   "execution_count": 6,
   "id": "74728fd8",
   "metadata": {},
   "outputs": [
    {
     "data": {
      "text/html": [
       "<div>\n",
       "<style scoped>\n",
       "    .dataframe tbody tr th:only-of-type {\n",
       "        vertical-align: middle;\n",
       "    }\n",
       "\n",
       "    .dataframe tbody tr th {\n",
       "        vertical-align: top;\n",
       "    }\n",
       "\n",
       "    .dataframe thead th {\n",
       "        text-align: right;\n",
       "    }\n",
       "</style>\n",
       "<table border=\"1\" class=\"dataframe\">\n",
       "  <thead>\n",
       "    <tr style=\"text-align: right;\">\n",
       "      <th></th>\n",
       "      <th>Danceability</th>\n",
       "      <th>Energy</th>\n",
       "      <th>Loudness</th>\n",
       "      <th>Speechiness</th>\n",
       "      <th>Acousticness</th>\n",
       "      <th>Instrumentalness</th>\n",
       "      <th>Valence</th>\n",
       "      <th>Tempo</th>\n",
       "      <th>Duration_ms</th>\n",
       "      <th>Stream</th>\n",
       "    </tr>\n",
       "  </thead>\n",
       "  <tbody>\n",
       "    <tr>\n",
       "      <th>0</th>\n",
       "      <td>0.818</td>\n",
       "      <td>0.705</td>\n",
       "      <td>-6.679</td>\n",
       "      <td>0.1770</td>\n",
       "      <td>0.008360</td>\n",
       "      <td>0.002330</td>\n",
       "      <td>0.772</td>\n",
       "      <td>138.559</td>\n",
       "      <td>222640.0</td>\n",
       "      <td>1.040235e+09</td>\n",
       "    </tr>\n",
       "    <tr>\n",
       "      <th>1</th>\n",
       "      <td>0.676</td>\n",
       "      <td>0.703</td>\n",
       "      <td>-5.815</td>\n",
       "      <td>0.0302</td>\n",
       "      <td>0.086900</td>\n",
       "      <td>0.000687</td>\n",
       "      <td>0.852</td>\n",
       "      <td>92.761</td>\n",
       "      <td>200173.0</td>\n",
       "      <td>3.100837e+08</td>\n",
       "    </tr>\n",
       "    <tr>\n",
       "      <th>2</th>\n",
       "      <td>0.695</td>\n",
       "      <td>0.923</td>\n",
       "      <td>-3.930</td>\n",
       "      <td>0.0522</td>\n",
       "      <td>0.042500</td>\n",
       "      <td>0.046900</td>\n",
       "      <td>0.551</td>\n",
       "      <td>108.014</td>\n",
       "      <td>215150.0</td>\n",
       "      <td>6.306347e+07</td>\n",
       "    </tr>\n",
       "    <tr>\n",
       "      <th>3</th>\n",
       "      <td>0.689</td>\n",
       "      <td>0.739</td>\n",
       "      <td>-5.810</td>\n",
       "      <td>0.0260</td>\n",
       "      <td>0.000015</td>\n",
       "      <td>0.509000</td>\n",
       "      <td>0.578</td>\n",
       "      <td>120.423</td>\n",
       "      <td>233867.0</td>\n",
       "      <td>4.346636e+08</td>\n",
       "    </tr>\n",
       "    <tr>\n",
       "      <th>4</th>\n",
       "      <td>0.663</td>\n",
       "      <td>0.694</td>\n",
       "      <td>-8.627</td>\n",
       "      <td>0.1710</td>\n",
       "      <td>0.025300</td>\n",
       "      <td>0.000000</td>\n",
       "      <td>0.525</td>\n",
       "      <td>167.953</td>\n",
       "      <td>340920.0</td>\n",
       "      <td>6.172597e+08</td>\n",
       "    </tr>\n",
       "  </tbody>\n",
       "</table>\n",
       "</div>"
      ],
      "text/plain": [
       "   Danceability  Energy  Loudness  Speechiness  Acousticness  \\\n",
       "0         0.818   0.705    -6.679       0.1770      0.008360   \n",
       "1         0.676   0.703    -5.815       0.0302      0.086900   \n",
       "2         0.695   0.923    -3.930       0.0522      0.042500   \n",
       "3         0.689   0.739    -5.810       0.0260      0.000015   \n",
       "4         0.663   0.694    -8.627       0.1710      0.025300   \n",
       "\n",
       "   Instrumentalness  Valence    Tempo  Duration_ms        Stream  \n",
       "0          0.002330    0.772  138.559     222640.0  1.040235e+09  \n",
       "1          0.000687    0.852   92.761     200173.0  3.100837e+08  \n",
       "2          0.046900    0.551  108.014     215150.0  6.306347e+07  \n",
       "3          0.509000    0.578  120.423     233867.0  4.346636e+08  \n",
       "4          0.000000    0.525  167.953     340920.0  6.172597e+08  "
      ]
     },
     "execution_count": 6,
     "metadata": {},
     "output_type": "execute_result"
    }
   ],
   "source": [
    "variables_candidatas = spotifyYoutube.select_dtypes(include='number').drop(columns = ['Liveness', 'Key', 'Likes', 'Views', 'Comments'])\n",
    "variables_candidatas.head()"
   ]
  },
  {
   "cell_type": "markdown",
   "id": "6b3015f1",
   "metadata": {},
   "source": [
    "### Preprocesamiento de datos\n",
    "\n",
    "<b>· Valores nulos</b>\n",
    "1. Cómo primer paso, visualizo si hay valores nulos dentro de las variables candidatas:"
   ]
  },
  {
   "cell_type": "code",
   "execution_count": 7,
   "id": "a7268b4b",
   "metadata": {
    "scrolled": true
   },
   "outputs": [
    {
     "data": {
      "text/plain": [
       "Danceability          2\n",
       "Energy                2\n",
       "Loudness              2\n",
       "Speechiness           2\n",
       "Acousticness          2\n",
       "Instrumentalness      2\n",
       "Valence               2\n",
       "Tempo                 2\n",
       "Duration_ms           2\n",
       "Stream              576\n",
       "dtype: int64"
      ]
     },
     "execution_count": 7,
     "metadata": {},
     "output_type": "execute_result"
    }
   ],
   "source": [
    "variables_candidatas.isna().sum()"
   ]
  },
  {
   "cell_type": "markdown",
   "id": "5ab2c19a",
   "metadata": {},
   "source": [
    "2. Debido a que el conjunto de datos contiene <b>20718 muestras</b>, y 576 de estos valores son nulos, he decidido simplementes quitarlos, ya estos valores solo representan aproximadamente el 2.78% de los datos totales."
   ]
  },
  {
   "cell_type": "code",
   "execution_count": 8,
   "id": "a14848f1",
   "metadata": {},
   "outputs": [
    {
     "data": {
      "text/html": [
       "<div>\n",
       "<style scoped>\n",
       "    .dataframe tbody tr th:only-of-type {\n",
       "        vertical-align: middle;\n",
       "    }\n",
       "\n",
       "    .dataframe tbody tr th {\n",
       "        vertical-align: top;\n",
       "    }\n",
       "\n",
       "    .dataframe thead th {\n",
       "        text-align: right;\n",
       "    }\n",
       "</style>\n",
       "<table border=\"1\" class=\"dataframe\">\n",
       "  <thead>\n",
       "    <tr style=\"text-align: right;\">\n",
       "      <th></th>\n",
       "      <th>Danceability</th>\n",
       "      <th>Energy</th>\n",
       "      <th>Loudness</th>\n",
       "      <th>Speechiness</th>\n",
       "      <th>Acousticness</th>\n",
       "      <th>Instrumentalness</th>\n",
       "      <th>Valence</th>\n",
       "      <th>Tempo</th>\n",
       "      <th>Duration_ms</th>\n",
       "      <th>Stream</th>\n",
       "    </tr>\n",
       "  </thead>\n",
       "  <tbody>\n",
       "    <tr>\n",
       "      <th>0</th>\n",
       "      <td>0.818</td>\n",
       "      <td>0.705</td>\n",
       "      <td>-6.679</td>\n",
       "      <td>0.1770</td>\n",
       "      <td>0.008360</td>\n",
       "      <td>0.002330</td>\n",
       "      <td>0.772</td>\n",
       "      <td>138.559</td>\n",
       "      <td>222640.0</td>\n",
       "      <td>1.040235e+09</td>\n",
       "    </tr>\n",
       "    <tr>\n",
       "      <th>1</th>\n",
       "      <td>0.676</td>\n",
       "      <td>0.703</td>\n",
       "      <td>-5.815</td>\n",
       "      <td>0.0302</td>\n",
       "      <td>0.086900</td>\n",
       "      <td>0.000687</td>\n",
       "      <td>0.852</td>\n",
       "      <td>92.761</td>\n",
       "      <td>200173.0</td>\n",
       "      <td>3.100837e+08</td>\n",
       "    </tr>\n",
       "    <tr>\n",
       "      <th>2</th>\n",
       "      <td>0.695</td>\n",
       "      <td>0.923</td>\n",
       "      <td>-3.930</td>\n",
       "      <td>0.0522</td>\n",
       "      <td>0.042500</td>\n",
       "      <td>0.046900</td>\n",
       "      <td>0.551</td>\n",
       "      <td>108.014</td>\n",
       "      <td>215150.0</td>\n",
       "      <td>6.306347e+07</td>\n",
       "    </tr>\n",
       "    <tr>\n",
       "      <th>3</th>\n",
       "      <td>0.689</td>\n",
       "      <td>0.739</td>\n",
       "      <td>-5.810</td>\n",
       "      <td>0.0260</td>\n",
       "      <td>0.000015</td>\n",
       "      <td>0.509000</td>\n",
       "      <td>0.578</td>\n",
       "      <td>120.423</td>\n",
       "      <td>233867.0</td>\n",
       "      <td>4.346636e+08</td>\n",
       "    </tr>\n",
       "    <tr>\n",
       "      <th>4</th>\n",
       "      <td>0.663</td>\n",
       "      <td>0.694</td>\n",
       "      <td>-8.627</td>\n",
       "      <td>0.1710</td>\n",
       "      <td>0.025300</td>\n",
       "      <td>0.000000</td>\n",
       "      <td>0.525</td>\n",
       "      <td>167.953</td>\n",
       "      <td>340920.0</td>\n",
       "      <td>6.172597e+08</td>\n",
       "    </tr>\n",
       "  </tbody>\n",
       "</table>\n",
       "</div>"
      ],
      "text/plain": [
       "   Danceability  Energy  Loudness  Speechiness  Acousticness  \\\n",
       "0         0.818   0.705    -6.679       0.1770      0.008360   \n",
       "1         0.676   0.703    -5.815       0.0302      0.086900   \n",
       "2         0.695   0.923    -3.930       0.0522      0.042500   \n",
       "3         0.689   0.739    -5.810       0.0260      0.000015   \n",
       "4         0.663   0.694    -8.627       0.1710      0.025300   \n",
       "\n",
       "   Instrumentalness  Valence    Tempo  Duration_ms        Stream  \n",
       "0          0.002330    0.772  138.559     222640.0  1.040235e+09  \n",
       "1          0.000687    0.852   92.761     200173.0  3.100837e+08  \n",
       "2          0.046900    0.551  108.014     215150.0  6.306347e+07  \n",
       "3          0.509000    0.578  120.423     233867.0  4.346636e+08  \n",
       "4          0.000000    0.525  167.953     340920.0  6.172597e+08  "
      ]
     },
     "execution_count": 8,
     "metadata": {},
     "output_type": "execute_result"
    }
   ],
   "source": [
    "variables_candidatas = variables_candidatas.dropna()\n",
    "variables_candidatas.head()"
   ]
  },
  {
   "cell_type": "markdown",
   "id": "e32dcbfd",
   "metadata": {},
   "source": [
    "<b>· Inconsistencias en los datos</b>\n",
    " <p>&nbsp;Comprobar los valores atipicos de cada una de las variables es un proceso costoso en terminos de tiempo. Por eso primero voy a hacer la selección de caracteristicas y después comprobar valores atipicos en las variables seleccionadas y relevantes. En este paso, opte por buscar las inconsistencias más notables en los valores, en lugar de calcular valores atipicos para cada una de las variables.</p>"
   ]
  },
  {
   "cell_type": "markdown",
   "id": "7bd4baf8",
   "metadata": {},
   "source": [
    "1. <b>Tempo</b>: En este caso una canción no puede tener un BPM de 0. Pero antes de quitarlos, quise análizar cuantos datos con un valor de 0 existen. El resultado son 17 muestras. Esto no son muchas entradas y la falta de consistencia en sus variables no le dan utilidad, por lo que (posteriormente, en una linea) voy a optar por prescindir de ellos.\n",
    "<img src=\"https://raw.githubusercontent.com/emanuelbe1/ciencia_de_datos_repasos/main/Coderhouse/imagenes/Boxplot_Tempo.jpg\"></img>"
   ]
  },
  {
   "cell_type": "markdown",
   "id": "20e1e82e",
   "metadata": {},
   "source": [
    "2. <p><b>Duration_ms:</b> En este caso, considere improbable que una canción tenga una duración mayor a 16 minutos. Por lo que primero quise visualizar cuales entradas representaban estos valores átipicos, y cuantas. El resultado son <b>16 muestras</b>. Si bien hay composiciones que tienen una larga duración (por ejemplo, \"<i>Dogs</i>\" de la banda Pink Floyd, de 17 minutos de duración) este no es el caso de las muestras en el conjunto de datos.</p>\n",
    "<p>Estos valores representan \"mixes\", \"compilados\", sonidos de fondo para dormir y similares, que no son representativas de canciones. No representan un subconjunto relevante para el objetivo del análisis, por lo que he optado por eliminarlos.</p>"
   ]
  },
  {
   "cell_type": "markdown",
   "id": "3ee62ee7",
   "metadata": {},
   "source": [
    "<img src=\"https://raw.githubusercontent.com/emanuelbe1/ciencia_de_datos_repasos/main/Coderhouse/imagenes/Boxplot_duration_ms_f.jpg\"></img>"
   ]
  },
  {
   "cell_type": "markdown",
   "id": "66e685c1",
   "metadata": {},
   "source": [
    "<p>3. &nbsp;En este paso finalmente quite los valores mencionados, y podemos ver que, después de quitar los valores nulos y los datos inconsistentes o erroneos, quedan <b>20107 muestras</b> de las 20718 originales. Este cambio en 611 entradas representaba aproximadamente un 2.95% de los datos originales. Esto no representa una perdida muy significativa.</p>"
   ]
  },
  {
   "cell_type": "code",
   "execution_count": 9,
   "id": "809e8a0e",
   "metadata": {},
   "outputs": [
    {
     "name": "stdout",
     "output_type": "stream",
     "text": [
      "Valores con un 'Tempo' mayor a cero: 20123\n",
      "Valores con un 'Tempo' mayor a cero y menos de 16,6.. minutos de duración: 20107\n"
     ]
    }
   ],
   "source": [
    "# Primero: extraigo las variables con un tempo mayor a 0\n",
    "variables_candidatas_f = variables_candidatas[variables_candidatas['Tempo'] > 0]\n",
    "\n",
    "print(f\"Valores con un 'Tempo' mayor a cero: {variables_candidatas_f.shape[0]}\")\n",
    "\n",
    "# Luego, extraigo las variables con una duración menor a 1e6 milisegundos (esto es, 1*10⁶ = 1 millon de ms)\n",
    "variables_candidatas_f = variables_candidatas_f[variables_candidatas_f['Duration_ms'] <= 1e6]\n",
    "print(f\"Valores con un 'Tempo' mayor a cero y menos de 16,6.. minutos de duración: {variables_candidatas_f.shape[0]}\")"
   ]
  },
  {
   "cell_type": "markdown",
   "id": "3ab311c5",
   "metadata": {},
   "source": [
    "<p>&nbsp;Luego de esto, ya puedo continuar con la selección de caracteristicas o variables.</p>"
   ]
  },
  {
   "cell_type": "markdown",
   "id": "49c3cc09",
   "metadata": {},
   "source": [
    "### Metodo de selección de caracteristicas\n",
    "\n",
    "\n",
    "<b>· Secuential Feature Selector: modelo de regresión lineal</b>\n",
    "1. Teniendo el subconjunto \"<i>variables_candidatas_f</i>\" con potenciales variables explicativas, ahora quiero buscar cuales son las variables más adecuadas para estimar de forma lineal el número de reproducciones (\"Stream\") en Spotify.\n",
    " <p>Para mantener la reproductibilidad, configure el parametro <i>random_state</i> con el número 38.</p>"
   ]
  },
  {
   "cell_type": "code",
   "execution_count": 10,
   "id": "f56b8ec4",
   "metadata": {},
   "outputs": [
    {
     "name": "stdout",
     "output_type": "stream",
     "text": [
      "Caracteristicas más descriptivas: ('Energy', 'Loudness', 'Acousticness')\n",
      "Valor R² después de la selección de características: 0.026\n"
     ]
    }
   ],
   "source": [
    "# variables_candidatas_f: son las potenciales variables explicativas, y su variable a predecir ('Stream')\n",
    "# la \"f\" es por \"filtradas\": son los datos después de limpiarlos\n",
    "\n",
    "# Defino mis caracteristicas en X y la variable objetivo en 'y'\n",
    "\n",
    "X = variables_candidatas_f.drop(columns='Stream')\n",
    "y = variables_candidatas_f[['Stream']]\n",
    "\n",
    "\n",
    "# Divido mis datos en conjuntos de entrenamiento y testeo\n",
    "X_train, X_test, y_train, y_test = train_test_split(X, y, test_size = 0.2, random_state = 38)\n",
    "\n",
    "# Instancio el modelo de regresión lineal\n",
    "modelo = LinearRegression()\n",
    "\n",
    "# Uso SFS para buscar las 3 variables más explicativas segun el r²\n",
    "sfs = SFS(modelo, k_features=3, forward=1, scoring='r2')\n",
    "\n",
    "# Evaluo sobre las posibles variales\n",
    "sfs.fit(X_train, y_train)\n",
    "\n",
    "# Imprimo las tres variables con\n",
    "print(f\"Caracteristicas más descriptivas: {sfs.k_feature_names_}\")\n",
    "print(f\"Valor R² después de la selección de características: {sfs.k_score_:.3f}\")"
   ]
  },
  {
   "cell_type": "markdown",
   "id": "35d094a3",
   "metadata": {},
   "source": [
    "2. El selector de caracteristicas secuencial determina que las tres variables que generan el modelo con un menor MSE o ECM son la energia, el volumen relativo y si la pieza es acustica o no. El siguiente paso es crear un modelo y medir su capacidad de predicción usando los datos de prueba.\n",
    "- Al probar con cuatro caracteristicas (<i>k_features</i>) el modelo no aumento su r² de manera significativa: 0.027.\n",
    "- Hay cierta mejora al elegir tres variables, las cuales generan un valor r² de 0.026.\n",
    "- Al elegir dos caracteristicas el modelo lineal devuelve un r² de 0.018.\n",
    "\n",
    "<p> Las columnas a utilizar para el modelo de regresión lineal son: 'Energy', 'Loudness', 'Acousticness'.</p>"
   ]
  },
  {
   "cell_type": "markdown",
   "id": "851ae06c",
   "metadata": {},
   "source": [
    "<hr>\n",
    "\n",
    "## <center>Modelado</center>\n",
    "\n",
    "<center>Ajuste del modelo (regresión lineal) y configuración a partir de las caracteristicas elegidas.</center>\n",
    "<p> En la sección anterior se uso un método de feature selection para reducir la dimensionalidad de los datos, en base a la regresión lineal. Las caracteristicas elegidas en base al mejor r² obtenido son:</p>\n",
    "\n",
    "- \"Energy\"\n",
    "- \"Loudness\"\n",
    "- \"Acousticness\"\n",
    "\n",
    "Estas columnas estan almacenadas en \"variables_candidatas_f\", y el objetivo es usarlas para intentar predecir el número de reproducciones."
   ]
  },
  {
   "cell_type": "markdown",
   "id": "5d70072e",
   "metadata": {},
   "source": [
    "1. Primero debo ajustar el modelo de regresión lineal al comportamiento de los datos"
   ]
  },
  {
   "cell_type": "code",
   "execution_count": 11,
   "id": "9c82e22d",
   "metadata": {},
   "outputs": [
    {
     "data": {
      "text/html": [
       "<style>#sk-container-id-1 {color: black;background-color: white;}#sk-container-id-1 pre{padding: 0;}#sk-container-id-1 div.sk-toggleable {background-color: white;}#sk-container-id-1 label.sk-toggleable__label {cursor: pointer;display: block;width: 100%;margin-bottom: 0;padding: 0.3em;box-sizing: border-box;text-align: center;}#sk-container-id-1 label.sk-toggleable__label-arrow:before {content: \"▸\";float: left;margin-right: 0.25em;color: #696969;}#sk-container-id-1 label.sk-toggleable__label-arrow:hover:before {color: black;}#sk-container-id-1 div.sk-estimator:hover label.sk-toggleable__label-arrow:before {color: black;}#sk-container-id-1 div.sk-toggleable__content {max-height: 0;max-width: 0;overflow: hidden;text-align: left;background-color: #f0f8ff;}#sk-container-id-1 div.sk-toggleable__content pre {margin: 0.2em;color: black;border-radius: 0.25em;background-color: #f0f8ff;}#sk-container-id-1 input.sk-toggleable__control:checked~div.sk-toggleable__content {max-height: 200px;max-width: 100%;overflow: auto;}#sk-container-id-1 input.sk-toggleable__control:checked~label.sk-toggleable__label-arrow:before {content: \"▾\";}#sk-container-id-1 div.sk-estimator input.sk-toggleable__control:checked~label.sk-toggleable__label {background-color: #d4ebff;}#sk-container-id-1 div.sk-label input.sk-toggleable__control:checked~label.sk-toggleable__label {background-color: #d4ebff;}#sk-container-id-1 input.sk-hidden--visually {border: 0;clip: rect(1px 1px 1px 1px);clip: rect(1px, 1px, 1px, 1px);height: 1px;margin: -1px;overflow: hidden;padding: 0;position: absolute;width: 1px;}#sk-container-id-1 div.sk-estimator {font-family: monospace;background-color: #f0f8ff;border: 1px dotted black;border-radius: 0.25em;box-sizing: border-box;margin-bottom: 0.5em;}#sk-container-id-1 div.sk-estimator:hover {background-color: #d4ebff;}#sk-container-id-1 div.sk-parallel-item::after {content: \"\";width: 100%;border-bottom: 1px solid gray;flex-grow: 1;}#sk-container-id-1 div.sk-label:hover label.sk-toggleable__label {background-color: #d4ebff;}#sk-container-id-1 div.sk-serial::before {content: \"\";position: absolute;border-left: 1px solid gray;box-sizing: border-box;top: 0;bottom: 0;left: 50%;z-index: 0;}#sk-container-id-1 div.sk-serial {display: flex;flex-direction: column;align-items: center;background-color: white;padding-right: 0.2em;padding-left: 0.2em;position: relative;}#sk-container-id-1 div.sk-item {position: relative;z-index: 1;}#sk-container-id-1 div.sk-parallel {display: flex;align-items: stretch;justify-content: center;background-color: white;position: relative;}#sk-container-id-1 div.sk-item::before, #sk-container-id-1 div.sk-parallel-item::before {content: \"\";position: absolute;border-left: 1px solid gray;box-sizing: border-box;top: 0;bottom: 0;left: 50%;z-index: -1;}#sk-container-id-1 div.sk-parallel-item {display: flex;flex-direction: column;z-index: 1;position: relative;background-color: white;}#sk-container-id-1 div.sk-parallel-item:first-child::after {align-self: flex-end;width: 50%;}#sk-container-id-1 div.sk-parallel-item:last-child::after {align-self: flex-start;width: 50%;}#sk-container-id-1 div.sk-parallel-item:only-child::after {width: 0;}#sk-container-id-1 div.sk-dashed-wrapped {border: 1px dashed gray;margin: 0 0.4em 0.5em 0.4em;box-sizing: border-box;padding-bottom: 0.4em;background-color: white;}#sk-container-id-1 div.sk-label label {font-family: monospace;font-weight: bold;display: inline-block;line-height: 1.2em;}#sk-container-id-1 div.sk-label-container {text-align: center;}#sk-container-id-1 div.sk-container {/* jupyter's `normalize.less` sets `[hidden] { display: none; }` but bootstrap.min.css set `[hidden] { display: none !important; }` so we also need the `!important` here to be able to override the default hidden behavior on the sphinx rendered scikit-learn.org. See: https://github.com/scikit-learn/scikit-learn/issues/21755 */display: inline-block !important;position: relative;}#sk-container-id-1 div.sk-text-repr-fallback {display: none;}</style><div id=\"sk-container-id-1\" class=\"sk-top-container\"><div class=\"sk-text-repr-fallback\"><pre>LinearRegression()</pre><b>In a Jupyter environment, please rerun this cell to show the HTML representation or trust the notebook. <br />On GitHub, the HTML representation is unable to render, please try loading this page with nbviewer.org.</b></div><div class=\"sk-container\" hidden><div class=\"sk-item\"><div class=\"sk-estimator sk-toggleable\"><input class=\"sk-toggleable__control sk-hidden--visually\" id=\"sk-estimator-id-1\" type=\"checkbox\" checked><label for=\"sk-estimator-id-1\" class=\"sk-toggleable__label sk-toggleable__label-arrow\">LinearRegression</label><div class=\"sk-toggleable__content\"><pre>LinearRegression()</pre></div></div></div></div></div>"
      ],
      "text/plain": [
       "LinearRegression()"
      ]
     },
     "execution_count": 11,
     "metadata": {},
     "output_type": "execute_result"
    }
   ],
   "source": [
    "# Primero instancio el modelo de regresión lineal\n",
    "modelo = LinearRegression()\n",
    "\n",
    "# Selecciono los caracteristicas y la variable a predecir\n",
    "X = variables_candidatas_f[[\"Energy\", \"Loudness\", \"Acousticness\"]]\n",
    "y = variables_candidatas_f[[\"Stream\"]]\n",
    "\n",
    "# Separo en entrenamiento y prueba\n",
    "X_train, X_test, y_train, y_test =  train_test_split(X, y, test_size = 0.2, random_state = 38) \n",
    "\n",
    "# Ajusto la recta usando los datos de entrenamiento\n",
    "modelo.fit(X_train, y_train)"
   ]
  },
  {
   "cell_type": "markdown",
   "id": "75fc8a57",
   "metadata": {},
   "source": [
    "<hr>\n",
    "\n",
    "## <center>Validación del modelo</center>\n",
    "<center> Evaluación del rendimiento del modelo e interpretación de metricas</center>\n",
    " <p>&nbsp;Debido a que el comportamiento de los datos no muestra un patrón lineal, se espera que no haya resultados de rendimiento satisfactorio. En este paso tengo que hacer una evaluación de la capacidad del modelo. Para eso voy a calcular dos metricas utiles para los modelos de regresión lineal: el MSE y el r².</p>"
   ]
  },
  {
   "cell_type": "code",
   "execution_count": 12,
   "id": "5517979c",
   "metadata": {},
   "outputs": [
    {
     "name": "stdout",
     "output_type": "stream",
     "text": [
      "Error Cuadrado Medio (MSE): 63938717775269488.00\n",
      "Coeficiente de Determinación (R^2): 0.03\n"
     ]
    }
   ],
   "source": [
    "y_predichos = modelo.predict(X_test)\n",
    "\n",
    "# Calculo el MSE\n",
    "mse = mean_squared_error(y_test, y_predichos)\n",
    "\n",
    "# Calculo el R^2\n",
    "r2 = r2_score(y_test, y_predichos)\n",
    "\n",
    "print(f'Error Cuadrado Medio (MSE): {mse:.2f}')\n",
    "print(f'Coeficiente de Determinación (R^2): {r2:.2f}')"
   ]
  },
  {
   "cell_type": "markdown",
   "id": "8f058be9",
   "metadata": {},
   "source": [
    "<hr>\n",
    "\n",
    "## <center>Resultados y conclusiones a partir del modelo</center>\n",
    "<center> Resultados y conclusiones basados en el rendimiento del modelo </center>\n",
    "\n",
    "<p>&nbsp;&nbsp;&nbsp;&nbsp;Según los resultados, ninguna de las variables consideradas explica de manera efectiva el número de Streams. El alto Error Cuadrático Medio (MSE) y el coeficiente de determinación R² cercano a cero indican que el modelo de regresión lineal no puede predecir la popularidad de las canciones basándose en las características seleccionadas.</p>\n",
    "<p>&nbsp;Hay relaciones mucho más complejas que no son capturadas por este modelo, que quizás no pueden ser cuantificadas. Para hacer un análisis más efectivo de la posible relación que los datos presentes puedan tener con el número de reproducciones, se puede considerar aplicar modelos de agrupamiento o más avanzados que la regresión lineal, clasificación logística, o el modelo k-NN.</p>\n",
    "\n",
    "<hr>"
   ]
  },
  {
   "cell_type": "markdown",
   "id": "2609f477",
   "metadata": {},
   "source": [
    "\n",
    "## <center><b>Respuestas basadas en los datos</b></center>\n",
    "<br>\n",
    "\n",
    "<b>¿Hay una relación entre el número de reproducciones en Spotfy y la adecuación para el baile de la canción?</b>\n",
    "\n",
    "<p>&nbsp;&nbsp;&nbsp;&nbsp;La correlación entre el número de reproducciones en Spotify y la adecuación para el baile de la canción (Danceability) es de aproximadamente 0.07, lo que indica una correlación muy débil o inexistente. Esto significa que, en general, no existe una relación lineal fuerte entre estas dos variables en el conjunto de datos analizado.</p>\n",
    "\n",
    "<p>&nbsp;Sin embargo, al hacer un análisis visual, podemos ver que al <i>atravesarse</i> los 1000 millones de reproducciones, ya no hay entran canciones con menos de 0.2 de adecuación para el baile, y los datos comienzan a presentar cierta tendencia a centrarse o dirigirse hacia 0.6 puntos de adecuación para el baile. Pasando de las 1500 millones de reproducciones, las canciones muestran un minimo de 0.3 y un maximo de 0.9 puntos de bailabilidad. Esto puede significar que se puede realizar un análisis más profundo haciendo un agrupamiento de los datos por cúalquiera de ambos ejes.</p>\n",
    "\n",
    "<p>&nbsp;A pesar de la baja correlación, es importante señalar que otros factores podrían estar influyendo en el número de reproducciones en Spotify, como la popularidad del artista, la promoción de la canción, la fecha de lanzamiento y otros aspectos que van más allá de la adecuación para el baile. Por lo tanto, la adecuación para el baile, a primera vista, no parece ser un predictor sólido del número de reproducciones en Spotify.</p>\n",
    "\n",
    "<br>\n",
    "\n",
    "<b>¿Existen variables altamente correlacionadas con el número de comentarios en Youtube?</b>\n",
    "<p>&nbsp;Podemos decir que las variables altamente correlacionadas al números de comentarios en un video de Youtube son los números de \"Likes\". Haciendo una limpieza de datos y un análisis más profundo, existe la posibilidad de que podamos considerar el número de <b>visitas</b> y <b>streams</b> cómo variables altamente correlacionadas. En resumen, diria que variables que sugieren una alta correlación seran: \"<b>Views</b>\", \"<b>Likes</b>\" y \"<b>Stream</b>\". Pero, en un sentido más general, la variable que se muestra (en el estado actual de los datos) más correlacionada es la variable \"<b>Likes</b>\".</p>\n",
    "\n",
    "<br>\n",
    "\n",
    "<b>¿Qué tan populares son, en términos de reproducciones en Spotify, las canciones instrumentales (\"Instrumentalness' cercano a 1\")?</b>\n",
    "\n",
    "<p>&nbsp;&nbsp;&nbsp;&nbsp;Basándonos en los datos visualizados, podemos ver una tendencia interesante: las canciones que se acercan más a un valor de \"1\" en la métrica de \"instrumentalness\" tienden a tener menos reproducciones en Spotify en comparación. Esta métrica indica la probabilidad de que una canción carezca de contenido vocal. Recordando la definición de esta variable, cuanto más cercano esté \"instrumentalness\" a 1, mayor es la probabilidad de que la canción sea completamente instrumental y carezca de voces.</p>\n",
    "<p>&nbsp;En el gráfico, podemos ver que las canciones que se acercan a un valor de \"1\" en \"instrumentalness\" generalmente tienen menos de 1 millón de reproducciones en Spotify. Sin embargo, en los datos con valores cercanos a \"0\" en \"instrumentalness,\" observamos un rango más amplio de reproducciones, con algunas canciones alcanzando y superando los mil millones de reproducciones.</p>\n",
    "<p>&nbsp;En resumen, nuestras visualizaciones sugieren que las canciones instrumentales tienden a tener menos reproducciones en Spotify en comparación con las canciones que contienen contenido vocal. Esto podría deberse a las preferencias del público, ya que las canciones con voces suelen ser más populares. No obstante, es importante recordar que la instrumentalidad de una canción es solo uno de los muchos factores que influyen en su popularidad en las plataformas de streaming de música.</p>\n",
    "\n",
    "<hr>"
   ]
  },
  {
   "cell_type": "markdown",
   "id": "7b5f56b8",
   "metadata": {},
   "source": [
    "## <center><b>Recomendaciones basadas en los descubrimientos</b></center>\n",
    "\n",
    "<p>&nbsp;&nbsp;&nbsp;&nbsp;El análisis exploratorio de datos (EDA) realizado en este estudio ha revelado varios patrones interesantes en el conjunto de datos \"<i>Youtube and Spotify</i>\". A continuación, se presentan algunas recomendaciones basadas en estos hallazgos:</p>\n",
    "\n",
    "- <b>Enfoque en la promoción de canciones instrumentales</b>: Dado que las canciones instrumentales tienden a tener menos reproducciones en Spotify en comparación con las canciones con contenido vocal, se sugiere que los artistas y las discográficas consideren estrategias de promoción específicas para este tipo de música. Esto podría incluir la identificación de audiencias nicho interesadas en música instrumental y la creación de contenido visual atractivo en plataformas como YouTube para aumentar la visibilidad.\n",
    "\n",
    "- <b>Optimización de las características clave</b>: El análisis ha resaltado la importancia de ciertas características musicales, como la bailabilidad, la energía y el tempo. Se recomienda a artistas y compositores considerar estas características si su fin es aumentar su atractivo en plataformas de streaming y videos de YouTube.\n",
    "\n",
    "- <b>Monitoreo de popularidad en YouTube</b>: La alta correlación entre el número de \"Likes\" y el número de comentarios en los videos de YouTube sugiere que la popularidad en esta plataforma puede influir en la interacción del público. Por lo tanto, se aconseja a los artistas y creadores de contenido que monitoreen de cerca sus métricas en YouTube y fomenten la interacción del público para mejorar su visibilidad.\n",
    "\n",
    "- <b>Segmentación del público objetivo</b>: Dado que los \"insights\" revelados pueden variar según el género musical, se sugiere una segmentación más precisa del público objetivo. Los esfuerzos de promoción y marketing pueden adaptarse a las preferencias de diferentes audiencias, lo que aumentaría la eficacia de las estrategias de promoción.\n",
    "\n",
    "- <b>Análisis Continuo</b>: El análisis exploratorio de datos es un proceso continuo. Se recomienda que se sigan analizando los datos a medida que se recopilan más observaciones. Esto permitirá mantenerse al día con las tendencias cambiantes y ajustar las estrategias en consecuencia.\n",
    "\n",
    "<p>&nbsp;Estas recomendaciones se basan en los \"insights\" descubiertos durante el EDA y pueden ayudar a los profesionales de la industria musical, artistas y creadores de contenido a tomar decisiones más informadas para optimizar su presencia en plataformas como Spotify y YouTube.</p>"
   ]
  }
 ],
 "metadata": {
  "kernelspec": {
   "display_name": "Python 3 (ipykernel)",
   "language": "python",
   "name": "python3"
  },
  "language_info": {
   "codemirror_mode": {
    "name": "ipython",
    "version": 3
   },
   "file_extension": ".py",
   "mimetype": "text/x-python",
   "name": "python",
   "nbconvert_exporter": "python",
   "pygments_lexer": "ipython3",
   "version": "3.9.13"
  }
 },
 "nbformat": 4,
 "nbformat_minor": 5
}
