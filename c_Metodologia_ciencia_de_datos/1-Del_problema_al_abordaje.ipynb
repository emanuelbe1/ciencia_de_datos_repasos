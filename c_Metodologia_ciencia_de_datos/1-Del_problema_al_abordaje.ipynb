{
 "cells": [
  {
   "cell_type": "markdown",
   "metadata": {
    "button": false,
    "new_sheet": false,
    "run_control": {
     "read_only": false
    }
   },
   "source": [
    "# Del problema al abordaje análitico\n",
    "\n",
    "Objetivos:\n",
    "\n",
    "*   Entender para que sirve la etapa de comprensión del negocio.\n",
    "*   Enfocarse analiticamente para los problemas.\n"
   ]
  },
  {
   "cell_type": "markdown",
   "metadata": {
    "button": false,
    "new_sheet": false,
    "run_control": {
     "read_only": false
    }
   },
   "source": [
    "## Contenido\n",
    "\n",
    "1.  [Entendimiento del negocio](#0)(<i>Business Understanding</i>)<br>\n",
    "2.  [Abordaje análitico](#2)(<i>Analytic Approach</i>) <br>\n",
    "\n",
    "<hr>\n"
   ]
  },
  {
   "cell_type": "markdown",
   "metadata": {
    "button": false,
    "new_sheet": false,
    "run_control": {
     "read_only": false
    }
   },
   "source": [
    "# Comprensión del negocio <a id=\"0\"></a>\n",
    "<i> o Business Understanding</i>\n"
   ]
  },
  {
   "cell_type": "markdown",
   "metadata": {
    "button": false,
    "new_sheet": false,
    "run_control": {
     "read_only": false
    }
   },
   "source": [
    "La siguiente es la **metodología de la ciencia de datos**, en un diagrama de flujo, que comienza con la <i>comprensión del negocio</i>. \n"
   ]
  },
  {
   "cell_type": "markdown",
   "metadata": {
    "button": false,
    "new_sheet": false,
    "run_control": {
     "read_only": false
    }
   },
   "source": [
    "<div style=\"text-align:center\">\n",
    "<img src = 'Datos/metodologia1.jpg'width=260 align= center>\n",
    "</div>\n"
   ]
  },
  {
   "cell_type": "markdown",
   "metadata": {
    "button": false,
    "new_sheet": false,
    "run_control": {
     "read_only": false
    }
   },
   "source": [
    "### ¿Por qué es importante la etapa de la comprensión del negocio?\n"
   ]
  },
  {
   "cell_type": "markdown",
   "metadata": {
    "button": false,
    "new_sheet": false,
    "run_control": {
     "read_only": false
    }
   },
   "source": [
    " <p>&nbsp; La comprensión del negocio es importante porque ayuda a enclarecer <u>cúales son las metas</u> de la entidad que hace la pregunta.<br>\n",
    " Observando el diagrama, podemos detectar dos características sobresalientes de la metodología fundamental de la ciencia de datos.</p>\n",
    "<ul>\n",
    "    <li>El diagrama es altamente interactivo. </li>\n",
    "    <li>El diagrama de flujo nunca termina. </li>\n",
    "</ul>"
   ]
  },
  {
   "cell_type": "markdown",
   "metadata": {
    "button": false,
    "new_sheet": false,
    "run_control": {
     "read_only": false
    }
   },
   "source": [
    "<div style=\"text-align:center\">\n",
    "<img src = 'Datos/metodologia.jpg'width=260 align= center>\n",
    "</div>\n"
   ]
  },
  {
   "cell_type": "markdown",
   "metadata": {
    "button": false,
    "new_sheet": false,
    "run_control": {
     "read_only": false
    }
   },
   "source": [
    "#### Ilustramos esta metodología usando un estudio de caso.\n"
   ]
  },
  {
   "cell_type": "markdown",
   "metadata": {
    "button": false,
    "new_sheet": false,
    "run_control": {
     "read_only": false
    }
   },
   "source": [
    " &nbsp;Supongamos que estamos interesados en automatizar el proceso de <i>saber</i> cúal sea la cocina de un plato o receta dada. <br>\n",
    " Apliquemos la etapa de <b>comprensión empresarial</b>(<i>otro termino para <b>business understanding</b></i>) a este problema."
   ]
  },
  {
   "cell_type": "markdown",
   "metadata": {
    "button": false,
    "new_sheet": false,
    "run_control": {
     "read_only": false
    }
   },
   "source": [
    "#### 1. ¿Podemos predecir la cocina de un plato dado conociendo solo el nombre de este plato? \n",
    "- La respuesta es no.\n"
   ]
  },
  {
   "cell_type": "markdown",
   "metadata": {
    "button": false,
    "new_sheet": false,
    "run_control": {
     "read_only": false
    }
   },
   "source": [
    "\n",
    "#### Por ejemplo, los siguientes nombres de platos se tomaron del menú de un restaurante local en Toronto, Ontario, Canadá.\n",
    "\n",
    " 1. Beast\n",
    "\n",
    " 2. 2 P.M\n",
    "\n",
    " 3. 4 minutes\n"
   ]
  },
  {
   "cell_type": "markdown",
   "metadata": {
    "button": false,
    "new_sheet": false,
    "run_control": {
     "read_only": false
    }
   },
   "source": [
    "#### 2. Somos capaces de determinar la cocina de estos platos?\n",
    "\n",
    "- La respuesta es que no. Pero si investigamos los nombres de estos platos, sabremos que pertenecen a la cocina japonesa. \n"
   ]
  },
  {
   "cell_type": "markdown",
   "metadata": {
    "button": false,
    "new_sheet": false,
    "run_control": {
     "read_only": false
    }
   },
   "source": [
    "#### 3. ¿Y qué tal con guiarnos por su apariencia para determinar la cocina?\n",
    "\n",
    " - No, por su apariencia tampoco podemos saber. En especial para los paises con cercania geografica, cómo los paises asiaticos."
   ]
  },
  {
   "cell_type": "markdown",
   "metadata": {
    "button": false,
    "new_sheet": false,
    "run_control": {
     "read_only": false
    }
   },
   "source": [
    "<p>&nbsp;A este punto, nos damos cuenta de que automatizar el proceso de determinar la cocina de un plato no es un problema sencillo, ya que necesitamos encontrar un método que sea robusto para las muchas cocinas y sus variaciones.</p>"
   ]
  },
  {
   "cell_type": "markdown",
   "metadata": {
    "button": false,
    "new_sheet": false,
    "run_control": {
     "read_only": false
    }
   },
   "source": [
    "#### 4. ¿Qué pasa con determinar la cocina de un plato en función a sus ingredientes?\n",
    "<p>&nbsp;Determinar la cocina de un plato dado basandonos en sus ingredientes parece ser una solución viable, ya que cada ingrediente son unicos a su cocina. Por ejemplo:</p>"
   ]
  },
  {
   "cell_type": "markdown",
   "metadata": {
    "button": false,
    "new_sheet": false,
    "run_control": {
     "read_only": false
    }
   },
   "source": [
    "* Cuando hablamos de cocina **americana**, el primer ingrediente que nos viene a la mente es la carne de res o el pavo.\n",
    "\n",
    "* Cuando hablamos de cocina **británica**, el primer ingrediente que viene a la mente es el abadejo o salsa de menta.\n",
    "\n",
    "* Cuando hablamos de cocina **canadiense**, el primer ingrediente que viene a la mente es el tocino o poutine.\n",
    "\n",
    "* Cuando hablamos de cocina **francesa**, el primer ingrediente que viene a la mente es el pan o la mantequilla.\n",
    "\n",
    "* Cuando hablamos de la cocina **italiana**, el primer ingrediente que nos viene a la mente es el tomate o la ricota.\n",
    "\n",
    "* Cuando hablamos de cocina **japonesa**, el primer ingrediente que viene a la mente son las algas o la salsa de soja.\n",
    "\n",
    "* Cuando hablamos de la cocina **china**, el primer ingrediente que nos viene a la mente es el jengibre o el ajo.\n",
    "\n",
    "* Cuando hablamos de cocina **hindú**, el primer ingrediente que viene a la mente es masala o chiles."
   ]
  },
  {
   "cell_type": "markdown",
   "metadata": {
    "button": false,
    "new_sheet": false,
    "run_control": {
     "read_only": false
    }
   },
   "source": [
    "# Enfoque análitico <a id=\"2\"></a>\n"
   ]
  },
  {
   "cell_type": "markdown",
   "metadata": {
    "button": false,
    "new_sheet": false,
    "run_control": {
     "read_only": false
    }
   },
   "source": [
    "<div style=\"text-align:center\">\n",
    "<img src = 'Datos/metodologia2.jpg'width=250 align= center>\n",
    "</div>"
   ]
  },
  {
   "cell_type": "markdown",
   "metadata": {
    "button": false,
    "new_sheet": false,
    "run_control": {
     "read_only": false
    }
   },
   "source": [
    "<p>&nbsp;Una vez que se ha establecido claramente el problema comercial (<i>Business problem</i>), el científico de datos puede definir el enfoque analítico que tomara para resolver el problema. Este paso implica expresar el problema en el contexto de técnicas estadísticas y de aprendizaje automático(<i>machine-learning</i>), de modo que la entidad o las partes interesadas(<i>stakeholders</i>) puedan identificar las técnicas más adecuadas para el resultado deseado.</p>\n"
   ]
  },
  {
   "cell_type": "markdown",
   "metadata": {
    "button": false,
    "new_sheet": false,
    "run_control": {
     "read_only": false
    }
   },
   "source": [
    "#### Por que es importante la etapa de enfoque analítico?\n",
    "   \n",
    "    · Porque ayuda a identificar qué tipo de patrones se necesitarán para abordar la pregunta de manera más efectiva.\n",
    "<br>"
   ]
  },
  {
   "cell_type": "markdown",
   "metadata": {
    "button": false,
    "new_sheet": false,
    "run_control": {
     "read_only": false
    }
   },
   "source": [
    "<p>&nbsp;Exploremos un algoritmo de aprendizaje automático(<i>machine-learning</i>), los <b>árboles de decisión</b>(<i>decision tree</i>) y veamos si es la técnica adecuada para automatizar el proceso de identificación de la cocina de un plato o receta determinado y, al mismo tiempo, proporcionarnos una idea de por qué se cree que una receta determinada pertenece a un cierto tipo de cocina.</p>\n"
   ]
  },
  {
   "cell_type": "markdown",
   "metadata": {
    "button": false,
    "new_sheet": false,
    "run_control": {
     "read_only": false
    }
   },
   "source": [
    "<p>&nbsp;Este es un árbol de decisiones que podría crear manualmente una persona inexperta. Comenzando desde arriba con todas las recetas de todas las cocinas del mundo, si una receta contiene **arroz**, este árbol de decisiones le clasificaría como cocina <b>japonesa</b>. De lo contrario, <b>no seria</b> cocina japonesa.</p>\n"
   ]
  },
  {
   "cell_type": "markdown",
   "metadata": {
    "button": false,
    "new_sheet": false,
    "run_control": {
     "read_only": false
    }
   },
   "source": [
    "<div style = 'text-align:center'>\n",
    "<img src=\"Datos/Cocinas.jpg\" width=425></div>\n"
   ]
  },
  {
   "cell_type": "markdown",
   "metadata": {},
   "source": [
    "&nbsp;El primero es el <b>nodo raíz</b>(<i>root node</i>)[Todas las cocinas], luego sigue el <b>nodo de decisión</b>[¿tiene arroz?], seguido por las ramas(<i>branches</i>)[sí, no] y finalmente los nodos de hoja(<i>leaf nodes</i>)[Cocina japonesa/no es cocina japonesa]"
   ]
  },
  {
   "cell_type": "markdown",
   "metadata": {
    "button": false,
    "new_sheet": false,
    "run_control": {
     "read_only": false
    }
   },
   "source": [
    "#### ¿Este es un buen arból de decisión?\n",
    "\n",
    "    · No, porque una gran cantidad de platos de otras cocinas contienen arroz. Por lo tanto, usar al arroz como ingrediente en el nodo 'Decision' para dividir no es una buena elección."
   ]
  },
  {
   "cell_type": "markdown",
   "metadata": {
    "button": false,
    "new_sheet": false,
    "run_control": {
     "read_only": false
    }
   },
   "source": [
    "#### Para construir un árbol de decisión muy poderoso para el estudio de caso de recetas, vamos a repasar un poco sobre los <u>árboles de decisión</u>.\n"
   ]
  },
  {
   "cell_type": "markdown",
   "metadata": {},
   "source": [
    "* Los árboles de decisión se construyen utilizando particiones recursivas para clasificar los datos.\n",
    "* Al dividir los datos, los árboles de decisión utilizan la característica más predictiva (ingrediente en este caso) para dividir los datos.\n",
    "* **La capacidad de predicción** se basa en la disminución de la entropía: ganancia de información o *impureza*."
   ]
  },
  {
   "cell_type": "markdown",
   "metadata": {
    "button": false,
    "new_sheet": false,
    "run_control": {
     "read_only": false
    }
   },
   "source": [
    "#### Supongamos que nuestros datos se componen de triangulos verdes y circulos rojos.\n",
    "\n",
    "&nbsp;El siguiente árbol de decisiones se consideraría el modelo óptimo para clasificar los datos en un nodo para los triángulos verdes y un nodo para los círculos rojos."
   ]
  },
  {
   "cell_type": "markdown",
   "metadata": {
    "button": false,
    "new_sheet": false,
    "run_control": {
     "read_only": false
    }
   },
   "source": [
    "<div style = 'text-align:center'><img src=\"https://cf-courses-data.s3.us.cloud-object-storage.appdomain.cloud/IBMDeveloperSkillsNetwork-DS0103EN-SkillsNetwork/labs/Module%201/images/lab1_fig6_decision_tree_5.png\" width=400></div>\n"
   ]
  },
  {
   "cell_type": "markdown",
   "metadata": {
    "button": false,
    "new_sheet": false,
    "run_control": {
     "read_only": false
    }
   },
   "source": [
    "&nbsp;Cada una de las clases en los nodos hoja(<i>leaf nodes</i>) es completamente pura, es decir, cada nodo hoja solo contiene puntos de datos(<i>datapoints</i>) que pertenecen a la misma clase."
   ]
  },
  {
   "cell_type": "markdown",
   "metadata": {
    "button": false,
    "new_sheet": false,
    "run_control": {
     "read_only": false
    }
   },
   "source": [
    "Por otro lado, el siguiente árbol de decisiones es un ejemplo del peor de los casos que podría generar el modelo.\n"
   ]
  },
  {
   "cell_type": "markdown",
   "metadata": {
    "button": false,
    "new_sheet": false,
    "run_control": {
     "read_only": false
    }
   },
   "source": [
    "<figure style = 'text-align:center'><img src=\"https://cf-courses-data.s3.us.cloud-object-storage.appdomain.cloud/IBMDeveloperSkillsNetwork-DS0103EN-SkillsNetwork/labs/Module%201/images/lab1_fig7_decision_tree_2.png\" width=480>\n",
    "</figure>\n"
   ]
  },
  {
   "cell_type": "markdown",
   "metadata": {
    "button": false,
    "new_sheet": false,
    "run_control": {
     "read_only": false
    }
   },
   "source": [
    "&nbsp;Cada <i>nodo de hoja</i> contiene puntos de datos que pertenecen a las dos clases, lo que da como resultado que muchos puntos de datos finalmente se clasifiquen incorrectamente.\n"
   ]
  },
  {
   "cell_type": "markdown",
   "metadata": {
    "button": false,
    "new_sheet": false,
    "run_control": {
     "read_only": false
    }
   },
   "source": [
    "#### Un árbol deja de crecer en un nodo cuando:\n",
    "\n",
    "* Es puro o casi puro.\n",
    "* No quedan variables sobre las cuales dividir en subconjuntos los datos.\n",
    "* El árbol ha crecido hasta un límite de tamaño preseleccionado."
   ]
  },
  {
   "cell_type": "markdown",
   "metadata": {
    "button": false,
    "new_sheet": false,
    "run_control": {
     "read_only": false
    }
   },
   "source": [
    "#### Algunas característica de los arboles de decisión"
   ]
  },
  {
   "cell_type": "markdown",
   "metadata": {},
   "source": [
    "| Pros | Contras | \n",
    "| --- | --- |\n",
    "| Faciles de interpretar | Es fácil sobreajustar o <i>sub-ajustar</i> el modelo |\n",
    "| Pueden manejar caracteristicas númericas o categoricas | No pueden modelar interacciones entre caracteristicas |\n",
    "| Pueden manejar datos faltantes | Los arboles grandes pueden ser dificiles de interpretar |\n",
    "| Usan solo las caracteristicas más importantes |  |\n",
    "| Pueden ser usados en datos pequeños o muy grandes |  |"
   ]
  },
  {
   "cell_type": "markdown",
   "metadata": {
    "button": false,
    "new_sheet": false,
    "run_control": {
     "read_only": false
    }
   },
   "source": [
    "Tratamos de construir una versión mucho mejor del árbol de decisiones para nuestro problema de recetas:\n"
   ]
  },
  {
   "cell_type": "markdown",
   "metadata": {
    "button": false,
    "new_sheet": false,
    "run_control": {
     "read_only": false
    }
   },
   "source": [
    "<div style = 'text-align:center'>\n",
    "<img src=\"Datos/Cocinas_completo.jpg\" width = 475></div>\n"
   ]
  },
  {
   "cell_type": "markdown",
   "metadata": {
    "button": false,
    "new_sheet": false,
    "run_control": {
     "read_only": false
    }
   },
   "source": [
    "&nbsp;Estamos de acuerdo en que el árbol de decisión anterior es una versión mucho mejor que el anterior. Aunque seguimos usando **Arroz** como ingrediente en el primer *nodo de decisión*, las recetas se dividen en **Comida asiática** y **Comida no asiática**. La **Comida asiática** se divide en **Cocina Japonesa** y **No es cocina japonesa** según el ingrediente **Wasabi**. Este proceso de división de *nodos de hoja* continúa hasta que cada *nodo de hoja* es puro, es decir, contiene recetas que pertenecen a una sola cocina.\n",
    "<br>\n",
    "&nbsp; En consecuencia, los árboles de decisión son una técnica o algoritmo adecuado para nuestro estudio de caso de recetas.\n"
   ]
  }
 ],
 "metadata": {
  "kernelspec": {
   "display_name": "Python 3 (ipykernel)",
   "language": "python",
   "name": "python3"
  },
  "language_info": {
   "codemirror_mode": {
    "name": "ipython",
    "version": 3
   },
   "file_extension": ".py",
   "mimetype": "text/x-python",
   "name": "python",
   "nbconvert_exporter": "python",
   "pygments_lexer": "ipython3",
   "version": "3.9.13"
  },
  "widgets": {
   "state": {},
   "version": "1.1.2"
  }
 },
 "nbformat": 4,
 "nbformat_minor": 4
}
